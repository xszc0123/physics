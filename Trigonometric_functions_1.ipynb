{
  "nbformat": 4,
  "nbformat_minor": 0,
  "metadata": {
    "colab": {
      "provenance": [],
      "authorship_tag": "ABX9TyOjOVUTpg8zoSZM0pKq9Vzy",
      "include_colab_link": true
    },
    "kernelspec": {
      "name": "python3",
      "display_name": "Python 3"
    },
    "language_info": {
      "name": "python"
    }
  },
  "cells": [
    {
      "cell_type": "markdown",
      "metadata": {
        "id": "view-in-github",
        "colab_type": "text"
      },
      "source": [
        "<a href=\"https://colab.research.google.com/github/xszc0123/physics/blob/20250312/Trigonometric_functions_1.ipynb\" target=\"_parent\"><img src=\"https://colab.research.google.com/assets/colab-badge.svg\" alt=\"Open In Colab\"/></a>"
      ]
    },
    {
      "cell_type": "code",
      "execution_count": null,
      "metadata": {
        "id": "m27H_7MMOqjB"
      },
      "outputs": [],
      "source": [
        "import math # 수학 함수를 사용하기 위해서 라이브러리 추가"
      ]
    },
    {
      "cell_type": "code",
      "source": [
        "angle_degree = 30\n",
        "\n",
        "angle_radian = angle_degree  * math.pi / 180\n",
        "\n",
        "print(\"angle_radian : \",angle_radian)"
      ],
      "metadata": {
        "colab": {
          "base_uri": "https://localhost:8080/"
        },
        "id": "jqNKmB-9Ou6B",
        "outputId": "f271b412-2a52-4400-d578-3134a9672f27"
      },
      "execution_count": null,
      "outputs": [
        {
          "output_type": "stream",
          "name": "stdout",
          "text": [
            "angle_radian :  0.5235987755982988\n"
          ]
        }
      ]
    },
    {
      "cell_type": "code",
      "source": [
        "math.cos(angle_radian)"
      ],
      "metadata": {
        "colab": {
          "base_uri": "https://localhost:8080/"
        },
        "id": "bo8EowiXOv8y",
        "outputId": "c16b5fe2-1c54-4097-c65b-31149416f11b"
      },
      "execution_count": null,
      "outputs": [
        {
          "output_type": "execute_result",
          "data": {
            "text/plain": [
              "0.8660254037844387"
            ]
          },
          "metadata": {},
          "execution_count": 3
        }
      ]
    },
    {
      "cell_type": "code",
      "source": [
        "math.sin(angle_radian)"
      ],
      "metadata": {
        "colab": {
          "base_uri": "https://localhost:8080/"
        },
        "id": "bXiVb8MJOxQ3",
        "outputId": "134a9d71-1741-43b9-aec1-db87bf5f3324"
      },
      "execution_count": null,
      "outputs": [
        {
          "output_type": "execute_result",
          "data": {
            "text/plain": [
              "0.49999999999999994"
            ]
          },
          "metadata": {},
          "execution_count": 4
        }
      ]
    },
    {
      "cell_type": "code",
      "source": [
        "math.tan(angle_radian)"
      ],
      "metadata": {
        "colab": {
          "base_uri": "https://localhost:8080/"
        },
        "id": "0WCrgTNFOy0s",
        "outputId": "75998822-edce-4bd5-e210-e0623c3a7fcf"
      },
      "execution_count": null,
      "outputs": [
        {
          "output_type": "execute_result",
          "data": {
            "text/plain": [
              "0.5773502691896257"
            ]
          },
          "metadata": {},
          "execution_count": 12
        }
      ]
    },
    {
      "cell_type": "markdown",
      "source": [
        "직교 좌표를 극좌표로 변환"
      ],
      "metadata": {
        "id": "dQhoNyENO0df"
      }
    },
    {
      "cell_type": "code",
      "source": [
        "x,y = 1.0, 2.0"
      ],
      "metadata": {
        "id": "lDG0FWvwO176"
      },
      "execution_count": null,
      "outputs": []
    },
    {
      "cell_type": "code",
      "source": [
        "r =  math.sqrt(x**2 + y**2)\n",
        "theta_radian = math.atan2(y,x)\n",
        "\n",
        "print(r, theta_radian)"
      ],
      "metadata": {
        "colab": {
          "base_uri": "https://localhost:8080/"
        },
        "id": "P4iQ0TjsO27q",
        "outputId": "78606583-8f19-4a6e-91ed-e2e9199681fb"
      },
      "execution_count": null,
      "outputs": [
        {
          "output_type": "stream",
          "name": "stdout",
          "text": [
            "10.0 0.5235987755982987\n"
          ]
        }
      ]
    },
    {
      "cell_type": "code",
      "source": [
        "극좌표를 직교 좌표로 변환"
      ],
      "metadata": {
        "id": "QJI-yOf0O4TI"
      },
      "execution_count": null,
      "outputs": []
    },
    {
      "cell_type": "code",
      "source": [
        "r= 10\n",
        "angle_degree= 30"
      ],
      "metadata": {
        "id": "wzWJI8zdPCOh"
      },
      "execution_count": 13,
      "outputs": []
    },
    {
      "cell_type": "code",
      "source": [
        "x = r * math.cos(angle_radian)\n",
        "y = r * math.sin(angle_radian)\n",
        "\n",
        "print(x ,y)"
      ],
      "metadata": {
        "colab": {
          "base_uri": "https://localhost:8080/"
        },
        "id": "Zz5IFXN-PFJs",
        "outputId": "53cfb8eb-89a4-4a07-93c8-2ae0ca9a0cd6"
      },
      "execution_count": null,
      "outputs": [
        {
          "output_type": "stream",
          "name": "stdout",
          "text": [
            "8.660254037844387 4.999999999999999\n"
          ]
        }
      ]
    }
  ]
}