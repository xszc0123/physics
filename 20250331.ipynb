{
  "nbformat": 4,
  "nbformat_minor": 0,
  "metadata": {
    "colab": {
      "provenance": [],
      "authorship_tag": "ABX9TyMV0M2c2x81OOTbH5aCJE+0",
      "include_colab_link": true
    },
    "kernelspec": {
      "name": "python3",
      "display_name": "Python 3"
    },
    "language_info": {
      "name": "python"
    }
  },
  "cells": [
    {
      "cell_type": "markdown",
      "metadata": {
        "id": "view-in-github",
        "colab_type": "text"
      },
      "source": [
        "<a href=\"https://colab.research.google.com/github/xszc0123/physics/blob/20250331/20250331.ipynb\" target=\"_parent\"><img src=\"https://colab.research.google.com/assets/colab-badge.svg\" alt=\"Open In Colab\"/></a>"
      ]
    },
    {
      "cell_type": "code",
      "source": [
        "# 2차원 벡터 연산 - Google Colab에서 실행하기 위한 코드\n",
        "\n",
        "# 첫 번째 벡터 입력 받기\n",
        "x1 = float(input(\"첫 번째 벡터의 x 성분을 입력하세요: \"))\n",
        "y1 = float(input(\"첫 번째 벡터의 y 성분을 입력하세요: \"))\n",
        "\n",
        "# 두 번째 벡터 입력 받기\n",
        "x2 = float(input(\"두 번째 벡터의 x 성분을 입력하세요: \"))\n",
        "y2 = float(input(\"두 번째 벡터의 y 성분을 입력하세요: \"))\n",
        "\n",
        "# 벡터의 합 계산\n",
        "sum_x = x1 + x2\n",
        "sum_y = y1 + y2\n",
        "\n",
        "# 벡터의 내적 계산 (dot product)\n",
        "dot_product = x1 * x2 + y1 * y2\n",
        "\n",
        "# 벡터의 외적 계산 (cross product)\n",
        "cross_product = x1 * y2 - y1 * x2\n",
        "\n",
        "# 2차원 벡터의 외적은 스칼라 값으로, z축 방향의 크기를 나타냅니다\n",
        "\n",
        "# 결과 출력\n",
        "print(\"\\n벡터 1:\", x1, \"i +\", y1, \"j\")\n",
        "print(\"벡터 2:\", x2, \"i +\", y2, \"j\")\n",
        "print(\"\\n벡터의 합:\", sum_x, \"i +\", sum_y, \"j\")\n",
        "print(\"벡터의 내적:\", dot_product)\n",
        "print(\"벡터의 외적:\", cross_product)"
      ],
      "metadata": {
        "colab": {
          "base_uri": "https://localhost:8080/"
        },
        "id": "Y2wUfxlYUbPC",
        "outputId": "b98310e2-2a08-443c-9eee-c3f0d8f1fe61"
      },
      "execution_count": null,
      "outputs": [
        {
          "output_type": "stream",
          "name": "stdout",
          "text": [
            "첫 번째 벡터의 x 성분을 입력하세요: 10\n",
            "첫 번째 벡터의 y 성분을 입력하세요: 3\n",
            "두 번째 벡터의 x 성분을 입력하세요: 4\n",
            "두 번째 벡터의 y 성분을 입력하세요: 17\n",
            "\n",
            "벡터 1: 10.0 i + 3.0 j\n",
            "벡터 2: 4.0 i + 17.0 j\n",
            "\n",
            "벡터의 합: 14.0 i + 20.0 j\n",
            "벡터의 내적: 91.0\n",
            "벡터의 외적: 158.0\n"
          ]
        }
      ]
    },
    {
      "cell_type": "code",
      "source": [
        "z1 = float(input(\"첫 번째 벡터의 z 성분을 입력하세요: \"))\n",
        "z2 = float(input(\"첫 번째 벡터의 z 성분을 입력하세요: \"))\n",
        "\n",
        "sum_z = z1 + z2\n",
        "\n",
        "dot_produt_3d = x1 * x2 + y1 * y2 + z1 * z2\n",
        "\n",
        "cross_x = y1 * z2 - z1 * y2\n",
        "cross_y = z1 * x2 - x1 * z2\n",
        "cross_z = x1 * y2 - y1 * x2\n",
        "\n",
        "cross_product_3d = [cross_x, cross_y, cross_z]"
      ],
      "metadata": {
        "colab": {
          "base_uri": "https://localhost:8080/"
        },
        "id": "hsFhrC_ZUujK",
        "outputId": "36c8eeff-6af0-4933-9510-c586affd86e1"
      },
      "execution_count": null,
      "outputs": [
        {
          "name": "stdout",
          "output_type": "stream",
          "text": [
            "첫 번째 벡터의 z 성분을 입력하세요: 15\n",
            "첫 번째 벡터의 z 성분을 입력하세요: 3\n"
          ]
        }
      ]
    },
    {
      "cell_type": "code",
      "source": [
        "print(\"\\n벡터 1:\", x1, \"i +\", y1, \"j\", z1,\"k\")\n",
        "print(\"벡터 2:\", x2, \"i +\", y2, \"j\", z2, \"k\")\n",
        "print(\"\\n벡터의 합:\", sum_x, \"i +\", sum_y, \"j\", sum_z, \"k\")\n",
        "\n",
        "print(\"벡터의 내적:\", dot_produt_3d)\n",
        "print(\"벡터의 외적:\", cross_product_3d)"
      ],
      "metadata": {
        "colab": {
          "base_uri": "https://localhost:8080/"
        },
        "id": "X_z1l4cpU7oy",
        "outputId": "4a98ffe6-b691-4273-df7b-abfafb47ef92"
      },
      "execution_count": null,
      "outputs": [
        {
          "output_type": "stream",
          "name": "stdout",
          "text": [
            "\n",
            "벡터 1: 10.0 i + 3.0 j 15.0 k\n",
            "벡터 2: 4.0 i + 17.0 j 3.0 k\n",
            "\n",
            "벡터의 합: 14.0 i + 20.0 j 18.0 k\n",
            "벡터의 내적: 136.0\n",
            "벡터의 외적: [-246.0, 30.0, 158.0]\n"
          ]
        }
      ]
    }
  ]
}