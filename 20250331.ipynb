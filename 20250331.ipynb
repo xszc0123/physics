{
  "nbformat": 4,
  "nbformat_minor": 0,
  "metadata": {
    "colab": {
      "provenance": [],
      "authorship_tag": "ABX9TyNxYZsBdcxYrRKyuvizn9Qe",
      "include_colab_link": true
    },
    "kernelspec": {
      "name": "python3",
      "display_name": "Python 3"
    },
    "language_info": {
      "name": "python"
    }
  },
  "cells": [
    {
      "cell_type": "markdown",
      "metadata": {
        "id": "view-in-github",
        "colab_type": "text"
      },
      "source": [
        "<a href=\"https://colab.research.google.com/github/xszc0123/physics/blob/main/20250331.ipynb\" target=\"_parent\"><img src=\"https://colab.research.google.com/assets/colab-badge.svg\" alt=\"Open In Colab\"/></a>"
      ]
    },
    {
      "cell_type": "code",
      "execution_count": null,
      "metadata": {
        "id": "FpLq_PibaQ9a"
      },
      "outputs": [],
      "source": [
        "# 2차원 벡터 연산 - Google Colab에서 실행하기 위한 코드"
      ]
    },
    {
      "cell_type": "code",
      "source": [
        "# 첫 번째 벡터 입력 받기\n",
        "x1 = float(input(\"첫 번째 벡터의 x 성분을 입력하세요: \"))\n",
        "y1 = float(input(\"첫 번째 벡터의 y 성분을 입력하세요: \"))\n",
        "\n",
        "# 두 번째 벡터 입력 받기\n",
        "x2 = float(input(\"두 번째 벡터의 x 성분을 입력하세요: \"))\n",
        "y2 = float(input(\"두 번째 벡터의 y 성분을 입력하세요: \"))\n",
        "\n",
        "# 벡터의 합 계산\n",
        "sum_x = x1 + x2\n",
        "sum_y = y1 + y2\n",
        "\n",
        "# 벡터의 내적 계산 (dot product)\n",
        "dot_product = x1 + x2 + y1 + y2"
      ],
      "metadata": {
        "id": "1vt2zYCgaZ7e"
      },
      "execution_count": null,
      "outputs": []
    },
    {
      "cell_type": "code",
      "source": [
        "# 벡터의 외적 계산 (cross product)\n",
        "# 2차원 벡터의 외적은 스칼라 값으로, z축 방향의 크기를 나타냅니다\n",
        "\n",
        "cross_product ="
      ],
      "metadata": {
        "id": "ety7SWUzbgPz"
      },
      "execution_count": null,
      "outputs": []
    },
    {
      "cell_type": "code",
      "source": [
        "# 2차원 벡터 연산 - Google Colab에서 실행하기 위한 코드"
      ],
      "metadata": {
        "id": "yJDEvlvVTver"
      },
      "execution_count": null,
      "outputs": []
    },
    {
      "cell_type": "code",
      "source": [
        "# 첫 번째 벡터 입력 받기\n",
        "\n",
        "x1 = float(input(\"첫 번째 벡터의 x 성분을 입력하세요: \"))\n",
        "y1 = float(input(\"첫 번째 벡터의 y 성분을 입력하세요: \"))"
      ],
      "metadata": {
        "id": "FTKDBKezTw9b"
      },
      "execution_count": null,
      "outputs": []
    },
    {
      "cell_type": "code",
      "source": [
        "# 두 번째 벡터 입력 받기\n",
        "\n",
        "x2 = float(input(\"두 번째 벡터의 x 성분을 입력하세요: \"))\n",
        "y2 = float(input(\"두 번째 벡터의 y 성분을 입력하세요: \"))"
      ],
      "metadata": {
        "id": "OBAe9jaaT0Kb"
      },
      "execution_count": null,
      "outputs": []
    }
  ]
}