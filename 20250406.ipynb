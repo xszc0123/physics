{
  "nbformat": 4,
  "nbformat_minor": 0,
  "metadata": {
    "colab": {
      "provenance": [],
      "authorship_tag": "ABX9TyNB9voznaPWO+qNiFe7Z62K",
      "include_colab_link": true
    },
    "kernelspec": {
      "name": "python3",
      "display_name": "Python 3"
    },
    "language_info": {
      "name": "python"
    }
  },
  "cells": [
    {
      "cell_type": "markdown",
      "metadata": {
        "id": "view-in-github",
        "colab_type": "text"
      },
      "source": [
        "<a href=\"https://colab.research.google.com/github/xszc0123/physics/blob/20250406/20250406.ipynb\" target=\"_parent\"><img src=\"https://colab.research.google.com/assets/colab-badge.svg\" alt=\"Open In Colab\"/></a>"
      ]
    },
    {
      "cell_type": "code",
      "source": [
        "import math"
      ],
      "metadata": {
        "id": "4Axi8H3KF4Gt"
      },
      "execution_count": null,
      "outputs": []
    },
    {
      "cell_type": "code",
      "execution_count": null,
      "metadata": {
        "colab": {
          "base_uri": "https://localhost:8080/"
        },
        "id": "4hGuAf_SBHRv",
        "outputId": "cbb1ab5b-61ba-470d-e325-25ef5155518f"
      },
      "outputs": [
        {
          "name": "stdout",
          "output_type": "stream",
          "text": [
            "공이 떨어지기까지 걸린 시간 (초)을 입력하세요 (예: 2): 2\n",
            "수평 거리 (m)를 입력하세요 (예: 20): 20\n"
          ]
        }
      ],
      "source": [
        "# 사용자 입력\n",
        "\n",
        "t = float(input(\"공이 떨어지기까지 걸린 시간 (초)을 입력하세요 (예: 2): \"))\n",
        "\n",
        "x = float(input(\"수평 거리 (m)를 입력하세요 (예: 20): \"))"
      ]
    },
    {
      "cell_type": "code",
      "source": [
        "# 중력 가속도\n",
        "\n",
        "g = - 9.81  # m/s^2"
      ],
      "metadata": {
        "id": "KkMc7Wt6BZk0"
      },
      "execution_count": null,
      "outputs": []
    },
    {
      "cell_type": "code",
      "source": [
        "# a) 공의 처음속도 (수평속도)\n",
        "\n",
        "v0 = x / t"
      ],
      "metadata": {
        "id": "9K49y_nCBc4z"
      },
      "execution_count": null,
      "outputs": []
    },
    {
      "cell_type": "code",
      "source": [
        "# b) 옥상의 높이 (자유낙하 공식 사용)\n",
        "\n",
        "y = (g * t**2)/2"
      ],
      "metadata": {
        "id": "FQMhMd5nBeOz"
      },
      "execution_count": null,
      "outputs": []
    },
    {
      "cell_type": "code",
      "source": [
        "# c) 공이 지면에 닿을 때 속도\n",
        "\n",
        "vx = v0\n",
        "\n",
        "vy = g * t"
      ],
      "metadata": {
        "id": "dD_8IOhUBfCT"
      },
      "execution_count": null,
      "outputs": []
    },
    {
      "cell_type": "code",
      "source": [
        "# 최종 속도 크기\n",
        "\n",
        "v = math.sqrt(vx**2 + vy**2)"
      ],
      "metadata": {
        "id": "2WcFJU5bBfzs"
      },
      "execution_count": null,
      "outputs": []
    },
    {
      "source": [
        "# 최종 속도 방향 (아래로 향한 각도, 단위: 도)\n",
        "\n",
        "theta_rad = math.atan(vy/vx)\n",
        "\n",
        "theta_deg = math.degrees(theta_rad)"
      ],
      "cell_type": "code",
      "metadata": {
        "id": "FiDWehGHP3of"
      },
      "execution_count": null,
      "outputs": []
    },
    {
      "cell_type": "code",
      "source": [
        "# 결과 출력\n",
        "\n",
        "print(f\"\\n[결과]\")\n",
        "\n",
        "print(f\"a) 공의 처음속도 크기: {v0:.2f} m/s\")\n",
        "\n",
        "print(f\"b) 건물 높이: {y:.2f} m\")\n",
        "\n",
        "print(f\"c) 충돌 순간 속도 크기: {v:.2f} m/s\")\n",
        "\n",
        "print(f\"   충돌 순간 속도 방향 (수평선과 이루는 각도): {theta_deg:.2f}도\")"
      ],
      "metadata": {
        "colab": {
          "base_uri": "https://localhost:8080/"
        },
        "id": "7EoytaIePowR",
        "outputId": "48c911b4-70b3-4705-abd5-52c040098f2b"
      },
      "execution_count": null,
      "outputs": [
        {
          "output_type": "stream",
          "name": "stdout",
          "text": [
            "\n",
            "[결과]\n",
            "a) 공의 처음속도 크기: 10.00 m/s\n",
            "b) 건물 높이: -19.62 m\n",
            "c) 충돌 순간 속도 크기: 22.02 m/s\n",
            "   충돌 순간 속도 방향 (수평선과 이루는 각도): -62.99도\n"
          ]
        }
      ]
    }
  ]
}