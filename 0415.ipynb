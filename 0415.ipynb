{
  "nbformat": 4,
  "nbformat_minor": 0,
  "metadata": {
    "colab": {
      "provenance": [],
      "authorship_tag": "ABX9TyP/6DuIpdHNIbLKrTEzCjYV",
      "include_colab_link": true
    },
    "kernelspec": {
      "name": "python3",
      "display_name": "Python 3"
    },
    "language_info": {
      "name": "python"
    }
  },
  "cells": [
    {
      "cell_type": "markdown",
      "metadata": {
        "id": "view-in-github",
        "colab_type": "text"
      },
      "source": [
        "<a href=\"https://colab.research.google.com/github/xszc0123/physics/blob/20250410/0415.ipynb\" target=\"_parent\"><img src=\"https://colab.research.google.com/assets/colab-badge.svg\" alt=\"Open In Colab\"/></a>"
      ]
    },
    {
      "cell_type": "code",
      "execution_count": 17,
      "metadata": {
        "colab": {
          "base_uri": "https://localhost:8080/"
        },
        "id": "E00087jep8Nz",
        "outputId": "3104ff82-8f50-4754-cee5-9f576da349eb"
      },
      "outputs": [
        {
          "output_type": "stream",
          "name": "stdout",
          "text": [
            "x 방향 초기 속도 :  25.98076211353316 m/s\n",
            "y 방향 초기 속도 :  14.999999999999998 m/s\n",
            "최고점 높이 :  11.47959183673469 m\n",
            "최고점에 도달하는 시간 :  1.5306122448979589 초\n",
            "지면에 닿을 때 x 방향 속도: 25.98076211353316 m/s\n",
            "지면에 닿을 때 y 방향 속도: -14.999999999999998 m/s\n",
            "지면에 닿을 때 속도 크기: 30.0 m/s\n",
            "속도 벡터 성분: ( 25.98076211353316 , -14.999999999999998 )\n"
          ]
        }
      ],
      "source": [
        "import math\n",
        "\n",
        "deg = 30 #발사각도 (degrees)\n",
        "V0 = 30 #초기속도 (m/s)\n",
        "g = 9.8 #중력가속도 (m/s*s)\n",
        "\n",
        "#각도 값을 라디안으로 변환\n",
        "rad = math.radians(deg)\n",
        "\n",
        "#x, y 방향의 초기속도\n",
        "V0x = V0 * math.cos(rad)\n",
        "V0y = V0 * math.sin(rad)\n",
        "\n",
        "print(\"x 방향 초기 속도 : \", Vx0, \"m/s\")\n",
        "print(\"y 방향 초기 속도 : \", Vy0, \"m/s\")\n",
        "\n",
        "#최고점 높이\n",
        "h = (V0y ** 2)/(2 * g)\n",
        "\n",
        "print(\"최고점 높이 : \", h, \"m\")\n",
        "\n",
        "#최고점에 도달하는 시간\n",
        "t = V0y / g\n",
        "\n",
        "print(\"최고점에 도달하는 시간 : \", t, \"초\")\n",
        "\n",
        "#수평으로 이동한 거리\n",
        "t2 = t * 2 #t2는 전체 비행 시간, t는 최고점 도달 시간\n",
        "range_x = Vx0 * t2\n",
        "\n",
        "# 지면에 닿을 때의 속도 성분\n",
        "Vy = -Vy0\n",
        "V = math.sqrt(V0x ** 2 + Vy ** 2)\n",
        "print(\"지면에 닿을 때 x 방향 속도:\", V0x, \"m/s\")\n",
        "print(\"지면에 닿을 때 y 방향 속도:\", Vy, \"m/s\")\n",
        "print(\"지면에 닿을 때 속도 크기:\", V, \"m/s\")\n",
        "\n",
        "# 벡터 성분\n",
        "print(\"속도 벡터 성분: (\", V0x, \",\", Vy, \")\")"
      ]
    },
    {
      "cell_type": "markdown",
      "source": [],
      "metadata": {
        "id": "4t1XVt5KvrSA"
      }
    }
  ]
}